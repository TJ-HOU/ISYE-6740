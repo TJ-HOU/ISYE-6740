{
 "cells": [
  {
   "cell_type": "code",
   "execution_count": 195,
   "metadata": {},
   "outputs": [],
   "source": [
    "%matplotlib inline\n",
    "import matplotlib.pyplot as plt\n",
    "\n",
    "from sklearn.linear_model import LinearRegression\n",
    "from sklearn.metrics import mean_squared_error, r2_score\n",
    "from sklearn.preprocessing import PolynomialFeatures\n",
    "from sklearn.linear_model import Ridge\n",
    "\n",
    "from sklearn.model_selection import GridSearchCV\n",
    "from sklearn.model_selection import ParameterGrid\n",
    "from sklearn.model_selection import cross_validate\n",
    "from sklearn.model_selection import KFold\n",
    "\n",
    "import numpy as np\n",
    "import pandas as pd \n",
    "\n",
    "from sklearn.model_selection import train_test_split\n",
    "\n",
    "import warnings\n",
    "warnings.filterwarnings('ignore')"
   ]
  },
  {
   "cell_type": "code",
   "execution_count": 196,
   "metadata": {},
   "outputs": [],
   "source": [
    "data = pd.read_csv(\"copper-new.txt\", delim_whitespace=True, header=None, na_filter=False) "
   ]
  },
  {
   "cell_type": "code",
   "execution_count": 197,
   "metadata": {},
   "outputs": [
    {
     "data": {
      "text/html": [
       "<div>\n",
       "<style scoped>\n",
       "    .dataframe tbody tr th:only-of-type {\n",
       "        vertical-align: middle;\n",
       "    }\n",
       "\n",
       "    .dataframe tbody tr th {\n",
       "        vertical-align: top;\n",
       "    }\n",
       "\n",
       "    .dataframe thead th {\n",
       "        text-align: right;\n",
       "    }\n",
       "</style>\n",
       "<table border=\"1\" class=\"dataframe\">\n",
       "  <thead>\n",
       "    <tr style=\"text-align: right;\">\n",
       "      <th></th>\n",
       "      <th>0</th>\n",
       "      <th>1</th>\n",
       "    </tr>\n",
       "  </thead>\n",
       "  <tbody>\n",
       "    <tr>\n",
       "      <th>0</th>\n",
       "      <td>0.591</td>\n",
       "      <td>24.41</td>\n",
       "    </tr>\n",
       "    <tr>\n",
       "      <th>1</th>\n",
       "      <td>4.703</td>\n",
       "      <td>54.98</td>\n",
       "    </tr>\n",
       "    <tr>\n",
       "      <th>2</th>\n",
       "      <td>9.470</td>\n",
       "      <td>89.57</td>\n",
       "    </tr>\n",
       "    <tr>\n",
       "      <th>3</th>\n",
       "      <td>11.615</td>\n",
       "      <td>114.26</td>\n",
       "    </tr>\n",
       "    <tr>\n",
       "      <th>4</th>\n",
       "      <td>12.970</td>\n",
       "      <td>133.61</td>\n",
       "    </tr>\n",
       "  </tbody>\n",
       "</table>\n",
       "</div>"
      ],
      "text/plain": [
       "        0       1\n",
       "0   0.591   24.41\n",
       "1   4.703   54.98\n",
       "2   9.470   89.57\n",
       "3  11.615  114.26\n",
       "4  12.970  133.61"
      ]
     },
     "execution_count": 197,
     "metadata": {},
     "output_type": "execute_result"
    }
   ],
   "source": [
    "data.head()"
   ]
  },
  {
   "cell_type": "code",
   "execution_count": 198,
   "metadata": {},
   "outputs": [],
   "source": [
    "X = data[data.columns[1]]\n",
    "y = data[data.columns[0]]"
   ]
  },
  {
   "cell_type": "code",
   "execution_count": 199,
   "metadata": {},
   "outputs": [],
   "source": [
    "X = np.array(X).reshape((-1, 1))\n",
    "y = np.array(y).reshape((-1, 1))"
   ]
  },
  {
   "cell_type": "code",
   "execution_count": 200,
   "metadata": {},
   "outputs": [
    {
     "data": {
      "image/png": "[encoded data removed]",
      "text/plain": [
       "<Figure size 432x288 with 1 Axes>"
      ]
     },
     "metadata": {
      "needs_background": "light"
     },
     "output_type": "display_data"
    }
   ],
   "source": [
    "# Plot\n",
    "plt.scatter(X, y, alpha=0.5)\n",
    "plt.title('Scatter plot pythonspot.com')\n",
    "plt.xlabel('Temperature')\n",
    "plt.ylabel('Coefficient of thermal expanstion')\n",
    "plt.show()"
   ]
  },
  {
   "cell_type": "code",
   "execution_count": 201,
   "metadata": {},
   "outputs": [
    {
     "name": "stdout",
     "output_type": "stream",
     "text": [
      "LinearRegression(copy_X=True, fit_intercept=True, n_jobs=None, normalize=False)\n",
      "The intercept [7.38412739]\n",
      "The slope [[0.02128314]]\n",
      "The root mean square error 3.243561781943323\n",
      "The r2 0.6861858695095129\n"
     ]
    }
   ],
   "source": [
    "model = LinearRegression()\n",
    "model.fit(X, y)\n",
    "y_pred = model.predict(X)\n",
    "\n",
    "print(model)\n",
    "\n",
    "#To retrieve the intercept:\n",
    "print(\"The intercept\", model.intercept_)\n",
    "\n",
    "#For retrieving the slope:\n",
    "print(\"The slope\", model.coef_)\n",
    "\n",
    "rmse = np.sqrt(mean_squared_error(y,y_pred))\n",
    "r2 = r2_score(y,y_pred)\n",
    "print(\"The root mean square error\", rmse)\n",
    "print(\"The r2\", r2)\n"
   ]
  },
  {
   "cell_type": "code",
   "execution_count": 203,
   "metadata": {},
   "outputs": [
    {
     "name": "stdout",
     "output_type": "stream",
     "text": [
      "2.331321624986699 100.01000000001426\n",
      "1.2778948182659364 100.01000000001426\n",
      "0.56667734685041 100.01000000001426\n",
      "0.3225830042568235 100.01000000001426\n",
      "0.8368888515403039 100.01000000001426\n",
      "4.34431889297471 100.01000000001426\n",
      "5.407304751118677 100.01000000001426\n",
      "6.070466248049359 100.01000000001426\n",
      "26.499969516203862 100.01000000001426\n",
      "best polynomial degree 5\n",
      "best RMSE 0.3225830042568235\n"
     ]
    }
   ],
   "source": [
    "#My strategy is to first evaluate the Ridge regression model iwth only lamda = 0. Which makes my regeresion only typical \n",
    "#regression model. I will test various polynomial of the data. \n",
    "#I will pick the best fit data (least RMSE)\n",
    "#The expectation is to witness the RMSE goes down by increasing the polynomal degree and then at some point\n",
    "#the fit get worsen. \n",
    "\n",
    "X_train, X_test, y_train, y_test = train_test_split(X, y, test_size=0.50, random_state=42, shuffle=True)\n",
    "\n",
    "bestRMSE = 1000\n",
    "bestAlpha = -1\n",
    "bestDegree = 100\n",
    "\n",
    "for i in range(2, 11):\n",
    "    polynomial_features= PolynomialFeatures(degree=i)\n",
    "    X_poly_train = polynomial_features.fit_transform(X_train)\n",
    "    X_poly_test = polynomial_features.fit_transform(X_test)\n",
    "        \n",
    "    # create and fit a ridge regression model, testing each alpha\n",
    "    model = Ridge(alpha=0)\n",
    "    model.fit(X_poly_train, y_train)\n",
    "    y_pred = model.predict(X_poly_test)\n",
    "    rmse = np.sqrt(mean_squared_error(y_test,y_pred))\n",
    "    print(rmse, alpha)\n",
    "    if(bestRMSE > rmse):\n",
    "        bestRMSE = rmse\n",
    "        bestDegree = i\n",
    "\n",
    "print(\"best polynomial degree\", bestDegree)\n",
    "print(\"best RMSE\", bestRMSE)\n",
    "    "
   ]
  },
  {
   "cell_type": "code",
   "execution_count": 204,
   "metadata": {},
   "outputs": [
    {
     "data": {
      "text/plain": [
       "Ridge(alpha=0, copy_X=True, fit_intercept=True, max_iter=None, normalize=False,\n",
       "      random_state=None, solver='auto', tol=0.001)"
      ]
     },
     "execution_count": 204,
     "metadata": {},
     "output_type": "execute_result"
    }
   ],
   "source": [
    "model"
   ]
  },
  {
   "cell_type": "code",
   "execution_count": 180,
   "metadata": {},
   "outputs": [
    {
     "name": "stdout",
     "output_type": "stream",
     "text": [
      "3902\n",
      "0.29896202357045726\n",
      "39.030000000000804\n"
     ]
    }
   ],
   "source": [
    "polynomial_features= PolynomialFeatures(degree=bestDegree)\n",
    "X_poly = polynomial_features.fit_transform(X)\n",
    "\n",
    "all_rmse = []\n",
    "all_alpha = []\n",
    "alpha = .01\n",
    "for i in range(10000):\n",
    "    model = Ridge(alpha=alpha)\n",
    "    \n",
    "    kf = KFold(n_splits=5)\n",
    "    #print(kf.get_n_splits(X))\n",
    "    #print(kf)\n",
    "    temp = []\n",
    "    for train_index, test_index in kf.split(X):\n",
    "        #print(\"TRAIN:\", train_index, \"TEST:\", test_index)\n",
    "        model.fit(X_poly[train_index], y[train_index])\n",
    "        y_pred = model.predict(X_poly[test_index])\n",
    "        rmse = np.sqrt(mean_squared_error(y[test_index],y_pred))\n",
    "        temp.append(rmse)\n",
    "        \n",
    "    all_alpha.append(alpha)\n",
    "    all_rmse.append(np.average(temp))\n",
    "    alpha = alpha + .01\n",
    "    \n",
    "#print(all_alpha)\n",
    "print(np.argmin(all_rmse))\n",
    "print(all_rmse[np.argmin(all_rmse)])\n",
    "print(all_alpha[np.argmin(all_rmse)])\n"
   ]
  },
  {
   "cell_type": "code",
   "execution_count": 181,
   "metadata": {},
   "outputs": [
    {
     "data": {
      "image/png": "[encoded data removed]",
      "text/plain": [
       "<Figure size 432x288 with 1 Axes>"
      ]
     },
     "metadata": {
      "needs_background": "light"
     },
     "output_type": "display_data"
    }
   ],
   "source": [
    "# Plot\n",
    "plt.scatter(all_alpha, all_rmse, alpha=0.5)\n",
    "plt.title('Scatter plot')\n",
    "plt.xlabel('Lambda')\n",
    "plt.ylabel('MRSE')\n",
    "plt.show()"
   ]
  },
  {
   "cell_type": "code",
   "execution_count": 187,
   "metadata": {},
   "outputs": [
    {
     "name": "stdout",
     "output_type": "stream",
     "text": [
      "[[15.89738509]]\n"
     ]
    }
   ],
   "source": [
    "model = LinearRegression()\n",
    "model.fit(X, y)\n",
    "y_pred = model.predict([[400]])\n",
    "print(y_pred)"
   ]
  },
  {
   "cell_type": "code",
   "execution_count": 194,
   "metadata": {},
   "outputs": [
    {
     "name": "stdout",
     "output_type": "stream",
     "text": [
      "[[17.42891061]]\n"
     ]
    }
   ],
   "source": [
    "polynomial_features= PolynomialFeatures(degree=bestDegree)\n",
    "X_poly = polynomial_features.fit_transform(X)\n",
    "\n",
    "model = Ridge(alpha=39.03)\n",
    "model.fit(X_poly, y)\n",
    "y_pred = model.predict(polynomial_features.fit_transform([[400]]))\n",
    "print(y_pred)"
   ]
  },
  {
   "cell_type": "code",
   "execution_count": null,
   "metadata": {},
   "outputs": [],
   "source": []
  }
 ],
 "metadata": {
  "kernelspec": {
   "display_name": "Python 3",
   "language": "python",
   "name": "python3"
  },
  "language_info": {
   "codemirror_mode": {
    "name": "ipython",
    "version": 3
   },
   "file_extension": ".py",
   "mimetype": "text/x-python",
   "name": "python",
   "nbconvert_exporter": "python",
   "pygments_lexer": "ipython3",
   "version": "3.7.4"
  }
 },
 "nbformat": 4,
 "nbformat_minor": 2
}
