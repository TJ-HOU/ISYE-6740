{
 "cells": [
  {
   "cell_type": "code",
   "execution_count": null,
   "metadata": {},
   "outputs": [],
   "source": [
    "import numpy as np\n",
    "import math\n",
    "import matplotlib.pyplot as plt\n",
    "import pandas as pd\n",
    "import scipy.io as spio\n",
    "import sklearn.preprocessing as skpp\n",
    "import scipy.sparse.linalg as ll\n",
    "\n",
    "import sklearn.neighbors as sknb\n",
    "import sklearn.utils.graph_shortest_path as skug\n",
    "import sklearn.metrics as skmt\n",
    "import scipy.sparse.linalg as ll\n",
    "\n",
    "%matplotlib inline"
   ]
  },
  {
   "cell_type": "code",
   "execution_count": null,
   "metadata": {},
   "outputs": [],
   "source": [
    "images = spio.loadmat('isomap.mat',squeeze_me=True)['images']"
   ]
  },
  {
   "cell_type": "code",
   "execution_count": null,
   "metadata": {},
   "outputs": [],
   "source": [
    "print(images.shape)\n",
    "images = images.T\n",
    "print(images.shape)\n",
    "images = np.asarray(images)\n",
    "type(images)"
   ]
  },
  {
   "cell_type": "code",
   "execution_count": null,
   "metadata": {},
   "outputs": [],
   "source": [
    "# Step 1 of isomap: build a weighted graph + using nearest neighbors\n",
    "\n",
    "# kneighbors_graph Computes the (weighted) graph of k-Neighbors for points in X\n",
    "# return: Asparse graph in CSR format, shape = [n_samples, n_samples]\n",
    "# A[i, j] is assigned the weight of edge that connects i to j.\n",
    "\n",
    "WAnn = sknb.kneighbors_graph(images, 100, mode='distance', metric='euclidean', p=2, include_self=True)\n",
    "WAnn.shape"
   ]
  },
  {
   "cell_type": "code",
   "execution_count": null,
   "metadata": {},
   "outputs": [],
   "source": [
    "# here I used the networkx to visulize the adjacency matrix. \n",
    "# There are clear 4 clump of nodes which indicates similarities there.\n",
    "# roughly there is one light clump in the middle which could be due to overlap of nodes and edges and not \n",
    "# a real relationship\n",
    "import networkx as nx\n",
    "plt.figure(figsize=(100, 100))\n",
    "G = nx.from_scipy_sparse_matrix(WAnn)\n",
    "nx.draw(G, with_labels=True)\n",
    "plt.show()\n"
   ]
  },
  {
   "cell_type": "code",
   "execution_count": null,
   "metadata": {},
   "outputs": [],
   "source": [
    "# http://sociograph.blogspot.com/2012/11/visualizing-adjacency-matrices-in-python.html\n",
    "# I used the source above to visualize my adjacency matrix \n",
    "# In the example above it uses data from facebook to analyze the relationship between people. I used it to find out \n",
    "# relationship between the various nodes of my adjacency matrix\n",
    "\n",
    "import networkx as nx\n",
    "from matplotlib import patches\n",
    "\n",
    "def draw_adjacency_matrix(G, node_order=None, partitions=[], colors=[]):\n",
    "    \"\"\"\n",
    "    - G is a netorkx graph\n",
    "    - node_order (optional) is a list of nodes, where each node in G\n",
    "          appears exactly once\n",
    "    - partitions is a list of node lists, where each node in G appears\n",
    "          in exactly one node list\n",
    "    - colors is a list of strings indicating what color each\n",
    "          partition should be\n",
    "    If partitions is specified, the same number of colors needs to be\n",
    "    specified.\n",
    "    \"\"\"\n",
    "    adjacency_matrix = nx.to_numpy_matrix(G, dtype=np.bool, nodelist=node_order)\n",
    "\n",
    "    #Plot adjacency matrix in toned-down black and white\n",
    "    fig = plt.figure(figsize=(5, 5)) # in inches\n",
    "    plt.imshow(adjacency_matrix,\n",
    "                  cmap=\"Greys\",\n",
    "                  interpolation=\"none\")\n",
    "    \n",
    "    # The rest is just if you have sorted nodes by a partition and want to\n",
    "    # highlight the module boundaries\n",
    "    assert len(partitions) == len(colors)\n",
    "    ax = plt.gca()\n",
    "    for partition, color in zip(partitions, colors):\n",
    "        current_idx = 0\n",
    "        for module in partition:\n",
    "            ax.add_patch(patches.Rectangle((current_idx, current_idx),\n",
    "                                          len(module), # Width\n",
    "                                          len(module), # Height\n",
    "                                          facecolor=\"none\",\n",
    "                                          edgecolor=color,\n",
    "                                          linewidth=\"1\"))\n",
    "            current_idx += len(module)"
   ]
  },
  {
   "cell_type": "code",
   "execution_count": null,
   "metadata": {},
   "outputs": [],
   "source": [
    "G = nx.from_scipy_sparse_matrix(WAnn)\n",
    "draw_adjacency_matrix(G)"
   ]
  },
  {
   "cell_type": "code",
   "execution_count": null,
   "metadata": {},
   "outputs": [],
   "source": [
    "# http://sociograph.blogspot.com/2012/11/visualizing-adjacency-matrices-in-python.html\n",
    "# I used the blog above for my adjacency analysis.\n",
    "# here I used the Louvain method to visualize the network of connection in the adjacency matrix.\n",
    "# Louvain tries to maximize the modularity of the network. \n",
    "# This align with our results of using networkx pakcage in which we could see 4 clump of nodes\n",
    "# the analysis below shows that the fifth clump in networkx visualization was really an overlap of node and edges. \n",
    "import louvain\n",
    "import community\n",
    "from collections import defaultdict\n",
    "\n",
    "# Run louvain community finding algorithm\n",
    "louvain_community_dict = community.best_partition(G)\n",
    "\n",
    "# Convert community assignmet dict into list of communities\n",
    "louvain_comms = defaultdict(list)\n",
    "for node_index, comm_id in louvain_community_dict.items():\n",
    "    louvain_comms[comm_id].append(node_index)\n",
    "louvain_comms = louvain_comms.values()\n",
    "\n",
    "nodes_louvain_ordered = [node for comm in louvain_comms for node in comm]\n",
    "draw_adjacency_matrix(G, nodes_louvain_ordered, [louvain_comms], [\"blue\"])"
   ]
  },
  {
   "cell_type": "code",
   "execution_count": null,
   "metadata": {},
   "outputs": [],
   "source": [
    "#Step 2 of isomap: compute pairwise shortest distance matrix ,\n",
    "\n",
    "# Perform a shortest-path graph search on a positive directed or undirected graph.\n",
    "# returns: G[i,j] gives the shortest distance from point i to point j along the graph.\n",
    "DMat = skug.graph_shortest_path(WAnn)\n",
    "print(DMat.shape)"
   ]
  },
  {
   "cell_type": "code",
   "execution_count": null,
   "metadata": {},
   "outputs": [],
   "source": [
    "# step 3 of isomap: produce the centering matrix H. \n",
    "# Calculate the gram marix C\n",
    "# https://en.wikipedia.org/wiki/Isomap\n",
    "# https://en.wikipedia.org/wiki/Centering_matrix\n",
    "\n",
    "I = np.identity(698)\n",
    "O = np.ones(698)\n",
    "H = I - (1/698)*O\n",
    "DMat2 = np.power(DMat, 2)\n",
    "\n",
    "C = (-1/(2*698)) * (H @ DMat2 @ H.T)\n"
   ]
  },
  {
   "cell_type": "code",
   "execution_count": null,
   "metadata": {},
   "outputs": [],
   "source": [
    "C.shape"
   ]
  },
  {
   "cell_type": "code",
   "execution_count": null,
   "metadata": {},
   "outputs": [],
   "source": [
    "K = 2\n",
    "S,W = ll.eigs(C,k = K)\n",
    "\n",
    "dim1 = W[:,0]*math.sqrt(S[0])\n",
    "dim2 = W[:,1]*math.sqrt(S[1])"
   ]
  },
  {
   "cell_type": "code",
   "execution_count": null,
   "metadata": {},
   "outputs": [],
   "source": [
    "dim1.shape"
   ]
  },
  {
   "cell_type": "code",
   "execution_count": null,
   "metadata": {},
   "outputs": [],
   "source": [
    "fig = plt.figure()\n",
    "fig.set_size_inches(10, 10)\n",
    "ax = fig.add_subplot(111)\n",
    "\n",
    "# Show 40 of the images ont the plot\n",
    "x_size = (max(dim1) - min(dim1)) * 0.08\n",
    "y_size = (max(dim2) - min(dim2)) * 0.08\n",
    "for i in range(40):\n",
    "    img_num = np.random.randint(0, 698)\n",
    "    x0 = dim1[img_num] - (x_size / 2.)\n",
    "    y0 = dim2[img_num] - (y_size / 2.)\n",
    "    x1 = dim1[img_num] + (x_size / 2.)\n",
    "    y1 = dim2[img_num] + (y_size / 2.)\n",
    "    img = images[img_num,:].reshape(64, 64).T\n",
    "    ax.imshow(img, aspect='auto', cmap=plt.cm.gray, \n",
    "              interpolation='nearest', zorder=100000, extent=(x0, x1, y0, y1))\n",
    "\n",
    "\n",
    "# Show 2D components plot\n",
    "ax.scatter(dim1, dim2, marker='.',alpha=0.7)\n",
    "\n",
    "ax.set_ylabel('Component: 1 -- Up-Down Pose')\n",
    "ax.set_xlabel('Component: 2 -- Right-Left Pose')\n",
    "\n",
    "plt.show()"
   ]
  },
  {
   "cell_type": "code",
   "execution_count": null,
   "metadata": {},
   "outputs": [],
   "source": [
    "dim1[3]"
   ]
  },
  {
   "cell_type": "code",
   "execution_count": null,
   "metadata": {},
   "outputs": [],
   "source": [
    "# Q1-c"
   ]
  },
  {
   "cell_type": "code",
   "execution_count": null,
   "metadata": {},
   "outputs": [],
   "source": [
    "# Step 1 of isomap: build a weighted graph + using nearest neighbors\n",
    "\n",
    "# kneighbors_graph Computes the (weighted) graph of k-Neighbors for points in X\n",
    "# return: Asparse graph in CSR format, shape = [n_samples, n_samples]\n",
    "# A[i, j] is assigned the weight of edge that connects i to j.\n",
    "\n",
    "WAnn = sknb.kneighbors_graph(images, 100, mode='distance', metric='manhattan', p=1, include_self=True)\n",
    "WAnn.shape"
   ]
  },
  {
   "cell_type": "code",
   "execution_count": null,
   "metadata": {},
   "outputs": [],
   "source": [
    "# here I used the networkx to visulize the adjacency matrix. \n",
    "# There are clear 4 clump of nodes which indicates similarities there.\n",
    "# roughly there is one light clump in the middle which could be due to overlap of nodes and edges and not \n",
    "# a real relationship\n",
    "import networkx as nx\n",
    "plt.figure(figsize=(100, 100))\n",
    "G = nx.from_scipy_sparse_matrix(WAnn)\n",
    "nx.draw(G, with_labels=True)\n",
    "plt.show()\n"
   ]
  },
  {
   "cell_type": "code",
   "execution_count": null,
   "metadata": {},
   "outputs": [],
   "source": [
    "# http://sociograph.blogspot.com/2012/11/visualizing-adjacency-matrices-in-python.html\n",
    "# I used the source above to visualize my adjacency matrix \n",
    "# In the example above it uses data from facebook to analyze the relationship between people. I used it to find out \n",
    "# relationship between the various nodes of my adjacency matrix\n",
    "\n",
    "import networkx as nx\n",
    "from matplotlib import patches\n",
    "\n",
    "def draw_adjacency_matrix(G, node_order=None, partitions=[], colors=[]):\n",
    "    \"\"\"\n",
    "    - G is a netorkx graph\n",
    "    - node_order (optional) is a list of nodes, where each node in G\n",
    "          appears exactly once\n",
    "    - partitions is a list of node lists, where each node in G appears\n",
    "          in exactly one node list\n",
    "    - colors is a list of strings indicating what color each\n",
    "          partition should be\n",
    "    If partitions is specified, the same number of colors needs to be\n",
    "    specified.\n",
    "    \"\"\"\n",
    "    adjacency_matrix = nx.to_numpy_matrix(G, dtype=np.bool, nodelist=node_order)\n",
    "\n",
    "    #Plot adjacency matrix in toned-down black and white\n",
    "    fig = plt.figure(figsize=(5, 5)) # in inches\n",
    "    plt.imshow(adjacency_matrix,\n",
    "                  cmap=\"Greys\",\n",
    "                  interpolation=\"none\")\n",
    "    \n",
    "    # The rest is just if you have sorted nodes by a partition and want to\n",
    "    # highlight the module boundaries\n",
    "    assert len(partitions) == len(colors)\n",
    "    ax = plt.gca()\n",
    "    for partition, color in zip(partitions, colors):\n",
    "        current_idx = 0\n",
    "        for module in partition:\n",
    "            ax.add_patch(patches.Rectangle((current_idx, current_idx),\n",
    "                                          len(module), # Width\n",
    "                                          len(module), # Height\n",
    "                                          facecolor=\"none\",\n",
    "                                          edgecolor=color,\n",
    "                                          linewidth=\"1\"))\n",
    "            current_idx += len(module)"
   ]
  },
  {
   "cell_type": "code",
   "execution_count": null,
   "metadata": {},
   "outputs": [],
   "source": [
    "G = nx.from_scipy_sparse_matrix(WAnn)\n",
    "draw_adjacency_matrix(G)"
   ]
  },
  {
   "cell_type": "code",
   "execution_count": null,
   "metadata": {},
   "outputs": [],
   "source": [
    "# http://sociograph.blogspot.com/2012/11/visualizing-adjacency-matrices-in-python.html\n",
    "# I used the blog above for my adjacency analysis.\n",
    "# here I used the Louvain method to visualize the network of connection in the adjacency matrix.\n",
    "# Louvain tries to maximize the modularity of the network. \n",
    "# This align with our results of using networkx pakcage in which we could see 4 clump of nodes\n",
    "# the analysis below shows that the fifth clump in networkx visualization was really an overlap of node and edges. \n",
    "import louvain\n",
    "import community\n",
    "from collections import defaultdict\n",
    "\n",
    "# Run louvain community finding algorithm\n",
    "louvain_community_dict = community.best_partition(G)\n",
    "\n",
    "# Convert community assignmet dict into list of communities\n",
    "louvain_comms = defaultdict(list)\n",
    "for node_index, comm_id in louvain_community_dict.items():\n",
    "    louvain_comms[comm_id].append(node_index)\n",
    "louvain_comms = louvain_comms.values()\n",
    "\n",
    "nodes_louvain_ordered = [node for comm in louvain_comms for node in comm]\n",
    "draw_adjacency_matrix(G, nodes_louvain_ordered, [louvain_comms], [\"blue\"])"
   ]
  },
  {
   "cell_type": "code",
   "execution_count": null,
   "metadata": {},
   "outputs": [],
   "source": [
    "#Step 2 of isomap: compute pairwise shortest distance matrix ,\n",
    "\n",
    "# Perform a shortest-path graph search on a positive directed or undirected graph.\n",
    "# returns: G[i,j] gives the shortest distance from point i to point j along the graph.\n",
    "DMat = skug.graph_shortest_path(WAnn)\n",
    "print(DMat.shape)"
   ]
  },
  {
   "cell_type": "code",
   "execution_count": null,
   "metadata": {},
   "outputs": [],
   "source": [
    "# step 3 of isomap: produce the centering matrix H. \n",
    "# Calculate the gram marix C\n",
    "# https://en.wikipedia.org/wiki/Isomap\n",
    "# https://en.wikipedia.org/wiki/Centering_matrix\n",
    "\n",
    "I = np.identity(698)\n",
    "O = np.ones(698)\n",
    "H = I - (1/698)*O\n",
    "DMat2 = np.power(DMat, 2)\n",
    "\n",
    "C = (-1/(2*698)) * (H @ DMat2 @ H.T)\n"
   ]
  },
  {
   "cell_type": "code",
   "execution_count": null,
   "metadata": {},
   "outputs": [],
   "source": [
    "C.shape"
   ]
  },
  {
   "cell_type": "code",
   "execution_count": null,
   "metadata": {},
   "outputs": [],
   "source": [
    "K = 2\n",
    "S,W = ll.eigs(C,k = K)\n",
    "\n",
    "dim1 = W[:,0]*math.sqrt(S[0])\n",
    "dim2 = W[:,1]*math.sqrt(S[1])"
   ]
  },
  {
   "cell_type": "code",
   "execution_count": null,
   "metadata": {},
   "outputs": [],
   "source": [
    "dim1.shape"
   ]
  },
  {
   "cell_type": "code",
   "execution_count": null,
   "metadata": {},
   "outputs": [],
   "source": [
    "fig = plt.figure()\n",
    "fig.set_size_inches(10, 10)\n",
    "ax = fig.add_subplot(111)\n",
    "\n",
    "# Show 40 of the images ont the plot\n",
    "x_size = (max(dim1) - min(dim1)) * 0.08\n",
    "y_size = (max(dim2) - min(dim2)) * 0.08\n",
    "for i in range(40):\n",
    "    img_num = np.random.randint(0, 698)\n",
    "    x0 = dim1[img_num] - (x_size / 2.)\n",
    "    y0 = dim2[img_num] - (y_size / 2.)\n",
    "    x1 = dim1[img_num] + (x_size / 2.)\n",
    "    y1 = dim2[img_num] + (y_size / 2.)\n",
    "    img = images[img_num,:].reshape(64, 64).T\n",
    "    ax.imshow(img, aspect='auto', cmap=plt.cm.gray, \n",
    "              interpolation='nearest', zorder=100000, extent=(x0, x1, y0, y1))\n",
    "\n",
    "\n",
    "# Show 2D components plot\n",
    "ax.scatter(dim1, dim2, marker='.',alpha=0.7)\n",
    "\n",
    "ax.set_ylabel('Component: 1 -- Up-Down Pose')\n",
    "ax.set_xlabel('Component: 2 -- Right-Left Pose')\n",
    "\n",
    "plt.show()"
   ]
  },
  {
   "cell_type": "code",
   "execution_count": null,
   "metadata": {},
   "outputs": [],
   "source": []
  }
 ],
 "metadata": {
  "kernelspec": {
   "display_name": "Python 3",
   "language": "python",
   "name": "python3"
  },
  "language_info": {
   "codemirror_mode": {
    "name": "ipython",
    "version": 3
   },
   "file_extension": ".py",
   "mimetype": "text/x-python",
   "name": "python",
   "nbconvert_exporter": "python",
   "pygments_lexer": "ipython3",
   "version": "3.7.4"
  }
 },
 "nbformat": 4,
 "nbformat_minor": 2
}
