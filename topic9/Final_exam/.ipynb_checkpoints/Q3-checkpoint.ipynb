{
 "cells": [
  {
   "cell_type": "code",
   "execution_count": 1,
   "metadata": {},
   "outputs": [],
   "source": [
    "import numpy as np\n",
    "import math\n",
    "import matplotlib.pyplot as plt\n",
    "import pandas as pd\n",
    "import scipy.io as spio\n",
    "import sklearn.preprocessing as skpp\n",
    "import scipy.sparse.linalg as ll\n",
    "from os.path import abspath, exists"
   ]
  },
  {
   "cell_type": "code",
   "execution_count": 80,
   "metadata": {},
   "outputs": [
    {
     "name": "stdout",
     "output_type": "stream",
     "text": [
      "[[ 1.   6.  11.   7. ]\n",
      " [ 0.  14.  28.  21. ]\n",
      " [ 0.5  3.   5.5  3.5]]\n",
      "3 4\n"
     ]
    }
   ],
   "source": [
    "Anew = np.array([[90,60,90], [90,90,30], [60,60,60], [60,60,90], [30,30,30]])\n",
    "Anew = np.array([[1,0,0.5],[6,14,3],[11,28,5.5], [7,21,3.5]])\n",
    "Anew = Anew.T\n",
    "print(Anew)\n",
    "n, m = Anew.shape\n",
    "print(n, m)"
   ]
  },
  {
   "cell_type": "code",
   "execution_count": 84,
   "metadata": {},
   "outputs": [
    {
     "name": "stdout",
     "output_type": "stream",
     "text": [
      "[ 6.25  15.75   3.125]\n",
      "[[ 12.6875    36.3125     6.34375 ]\n",
      " [ 36.3125   107.1875    18.15625 ]\n",
      " [  6.34375   18.15625    3.171875]]\n"
     ]
    },
    {
     "name": "stderr",
     "output_type": "stream",
     "text": [
      "/home/hadi/anaconda3/envs/StatisticalLearning/lib/python3.7/site-packages/ipykernel_launcher.py:11: ComplexWarning: Casting complex values to real discards the imaginary part\n",
      "  # This is added back by InteractiveShellApp.init_path()\n",
      "/home/hadi/anaconda3/envs/StatisticalLearning/lib/python3.7/site-packages/ipykernel_launcher.py:12: ComplexWarning: Casting complex values to real discards the imaginary part\n",
      "  if sys.path[0] == '':\n"
     ]
    }
   ],
   "source": [
    "mu = np.mean(Anew,axis = 1)\n",
    "xc = Anew - mu[:,None]\n",
    "print(mu)\n",
    "\n",
    "C = np.dot(xc,xc.T)/m\n",
    "print(C)\n",
    "\n",
    "K = 5\n",
    "S,W = ll.eigs(C)#,k = K)\n",
    "\n",
    "dim1 = np.dot(W[:,0].T,xc)/math.sqrt(S[0])\n",
    "dim2 = np.dot(W[:,1].T,xc)/math.sqrt(S[1])\n"
   ]
  },
  {
   "cell_type": "code",
   "execution_count": 85,
   "metadata": {},
   "outputs": [
    {
     "name": "stdout",
     "output_type": "stream",
     "text": [
      "[ 1.22625432e+02+0.j  4.21443471e-01+0.j -4.43069257e-16+0.j]\n",
      "[[-3.17904634e-01 -8.36024308e-01 -4.47213595e-01]\n",
      " [-9.34703592e-01  3.55428186e-01  4.79841496e-16]\n",
      " [-1.58952317e-01 -4.18012154e-01  8.94427191e-01]]\n"
     ]
    }
   ],
   "source": [
    "print(S)\n",
    "print(W)"
   ]
  },
  {
   "cell_type": "code",
   "execution_count": 111,
   "metadata": {},
   "outputs": [
    {
     "name": "stdout",
     "output_type": "stream",
     "text": [
      "-44\n",
      "[[-3.17904634e-01 -8.36024308e-01 -4.47213595e-01]\n",
      " [-9.34703592e-01  3.55428186e-01  4.79841496e-16]\n",
      " [-1.58952317e-01 -4.18012154e-01  8.94427191e-01]]\n"
     ]
    },
    {
     "name": "stderr",
     "output_type": "stream",
     "text": [
      "/home/hadi/anaconda3/envs/StatisticalLearning/lib/python3.7/site-packages/ipykernel_launcher.py:1: ComplexWarning: Casting complex values to real discards the imaginary part\n",
      "  \"\"\"Entry point for launching an IPython kernel.\n"
     ]
    }
   ],
   "source": [
    "print(int(S[2]*100000000000000000))\n",
    "print(W.astype(float))"
   ]
  },
  {
   "cell_type": "code",
   "execution_count": 83,
   "metadata": {},
   "outputs": [
    {
     "name": "stdout",
     "output_type": "stream",
     "text": [
      "[ 1.51782392  0.15668533 -1.20445325 -0.470056  ]\n",
      "[-0.17188338 -0.5556825  -0.93948162  1.6670475 ]\n"
     ]
    }
   ],
   "source": [
    "print(dim1)\n",
    "print(dim2)"
   ]
  },
  {
   "cell_type": "code",
   "execution_count": 100,
   "metadata": {},
   "outputs": [
    {
     "data": {
      "text/plain": [
       "69.83854166666667"
      ]
     },
     "execution_count": 100,
     "metadata": {},
     "output_type": "execute_result"
    }
   ],
   "source": [
    "np.var(Anew)"
   ]
  },
  {
   "cell_type": "code",
   "execution_count": 102,
   "metadata": {},
   "outputs": [
    {
     "data": {
      "text/plain": [
       "1.0000000000000024"
      ]
     },
     "execution_count": 102,
     "metadata": {},
     "output_type": "execute_result"
    }
   ],
   "source": [
    "np.var(dim2)"
   ]
  },
  {
   "cell_type": "code",
   "execution_count": null,
   "metadata": {},
   "outputs": [],
   "source": []
  }
 ],
 "metadata": {
  "kernelspec": {
   "display_name": "Python 3",
   "language": "python",
   "name": "python3"
  },
  "language_info": {
   "codemirror_mode": {
    "name": "ipython",
    "version": 3
   },
   "file_extension": ".py",
   "mimetype": "text/x-python",
   "name": "python",
   "nbconvert_exporter": "python",
   "pygments_lexer": "ipython3",
   "version": "3.7.4"
  }
 },
 "nbformat": 4,
 "nbformat_minor": 2
}
