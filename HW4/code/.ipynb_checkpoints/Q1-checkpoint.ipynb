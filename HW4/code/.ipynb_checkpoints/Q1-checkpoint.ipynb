{
 "cells": [
  {
   "cell_type": "code",
   "execution_count": 216,
   "metadata": {},
   "outputs": [],
   "source": [
    "%matplotlib inline\n",
    "import numpy as np\n",
    "import matplotlib.pyplot as plt\n",
    "import scipy.io as spio\n",
    "from random import gauss\n",
    "from scipy.stats import multivariate_normal\n",
    "\n",
    "from scipy import linalg\n",
    "import math\n",
    "\n",
    "from sklearn.preprocessing import scale\n",
    "from sklearn.metrics import precision_score\n",
    "\n"
   ]
  },
  {
   "cell_type": "code",
   "execution_count": 217,
   "metadata": {},
   "outputs": [
    {
     "name": "stdout",
     "output_type": "stream",
     "text": [
      "(784, 1990)\n",
      "<class 'numpy.ndarray'>\n",
      "(1990, 784)\n",
      "<class 'numpy.ndarray'>\n"
     ]
    }
   ],
   "source": [
    "# Read the data file. We will transpose it to have all data in rows instead of in columns.\n",
    "# each row is a 28X28 pixel digit for one mnist data\n",
    "\n",
    "data = spio.loadmat('data.mat',squeeze_me=True)['data']\n",
    "print(data.shape)\n",
    "print(type(data))\n",
    "data = data.T\n",
    "print(data.shape)\n",
    "print(type(data))"
   ]
  },
  {
   "cell_type": "code",
   "execution_count": 218,
   "metadata": {},
   "outputs": [
    {
     "name": "stdout",
     "output_type": "stream",
     "text": [
      "(1990,)\n",
      "[2 2 2 ... 6 6 6]\n",
      "[0 0 0 ... 6 6 6]\n",
      "[0 0 0 ... 1 1 1]\n"
     ]
    }
   ],
   "source": [
    "# We read the labels. \n",
    "# We will use this labels to measure the precision of our algorithm\n",
    "# We categorize digit two as 0 and digit six as category 1\n",
    "# this is technically for part (c)\n",
    "\n",
    "trueLabel = spio.loadmat('label.mat', squeeze_me=True)['trueLabel']\n",
    "print(trueLabel.shape)\n",
    "print(trueLabel)\n",
    "trueLabel[trueLabel==2] = 0\n",
    "print(trueLabel)\n",
    "trueLabel[trueLabel==6] = 1\n",
    "print(trueLabel)\n"
   ]
  },
  {
   "cell_type": "markdown",
   "metadata": {},
   "source": [
    "# Q1-a"
   ]
  },
  {
   "cell_type": "code",
   "execution_count": 219,
   "metadata": {},
   "outputs": [
    {
     "data": {
      "text/plain": [
       "<matplotlib.image.AxesImage at 0x7fde39840160>"
      ]
     },
     "execution_count": 219,
     "metadata": {},
     "output_type": "execute_result"
    },
    {
     "data": {
      "image/png": "[encoded data removed]",
      "text/plain": [
       "<Figure size 432x288 with 2 Axes>"
      ]
     },
     "metadata": {
      "needs_background": "light"
     },
     "output_type": "display_data"
    }
   ],
   "source": [
    "# Here we randomly pick two of the digits (one from 2s and one from 6s) \n",
    "# and visualize them\n",
    "\n",
    "fig, (axs1, axs2) = plt.subplots(1, 2)\n",
    "\n",
    "#Randomly generat two indies. One for 2 and one for 6\n",
    "img1 = data[np.random.randint(0, 700)].reshape((28,28))\n",
    "img2 = data[np.random.randint(1000, 1800)].reshape((28,28))\n",
    "\n",
    "\n",
    "fig.suptitle('A sample of 2 and 6')\n",
    "axs1.imshow(np.rot90(np.fliplr(img1)), cmap=\"Greys\")\n",
    "axs2.imshow(np.rot90(np.fliplr(img2)), cmap=\"Greys\")"
   ]
  },
  {
   "cell_type": "markdown",
   "metadata": {},
   "source": [
    "# Q1-b"
   ]
  },
  {
   "cell_type": "code",
   "execution_count": 220,
   "metadata": {},
   "outputs": [],
   "source": [
    "# Here we implement gussian multivariate using the typical calculations\n",
    "# I implemented this function to understand the concepts. \n",
    "# I did not use it in my algorithm\n",
    "\n",
    "def norm_pdf_multivariate(x, mu, sigma):\n",
    "    size = len(x.T)\n",
    "    #print(len(x))\n",
    "    #print(len(mu))\n",
    "    #print(sigma.shape)\n",
    "    if size == len(mu) and (size, size) == sigma.shape:\n",
    "        det = linalg.det(sigma)\n",
    "        #if det == 0:\n",
    "        #    raise NameError(\"The covariance matrix can't be singular\")\n",
    "\n",
    "        norm_const = 1.0\n",
    "        x_mu = np.array(x - mu)\n",
    "        inv = np.linalg.pinv(sigma) \n",
    "        #print(x_mu.shape)\n",
    "        #print(inv.shape)\n",
    "        #print(x_mu.T.shape)       \n",
    "        result = np.exp(-0.5 * (x_mu @ inv @ x_mu.T))\n",
    "        return np.diag(norm_const * result)\n",
    "    else:\n",
    "        raise NameError(\"The dimensions of the input don't match\")\n",
    "\n",
    "# This is the alternative function that uses the method of calculating multivariant normal guassian\n",
    "# using the explination provided in \"speed_up_GMM-4.pdf\"\n",
    "\n",
    "def norm_pdf_multivariate_alt(x, mu, sigma, cutoff):\n",
    "    size = len(x.T)\n",
    "    if size == len(mu) and (size, size) == sigma.shape:\n",
    "        v, l = np.linalg.eig(sigma)\n",
    "        v = np.sort(v)[::-1] #sorting in descending order\n",
    "        v = v[0:cutoff].real\n",
    "        S = l[:, 0:cutoff].real\n",
    "        #print(v)\n",
    "        \n",
    "        X = x @ S\n",
    "        MU = S.T @ mu\n",
    "        V = np.diag(v)\n",
    "\n",
    "        det = 1\n",
    "        for i in range(cutoff): det = det*v[i]\n",
    "        #print(det)\n",
    "        \n",
    "        if det == 0:\n",
    "            raise NameError(\"The covariance matrix can't be singular\")\n",
    "\n",
    "        norm_const = 1.0 / math.pow(det,1.0/2)\n",
    "        x_mu = np.array(X - MU)\n",
    "        inv = np.linalg.inv(V) \n",
    "        #print(x_mu.shape)\n",
    "        #print(inv.shape)\n",
    "        #print(x_mu.T.shape)       \n",
    "        result = np.exp(-0.5 * (x_mu @ inv @ x_mu.T))\n",
    "        return np.diag(norm_const * result)\n",
    "    else:\n",
    "        raise NameError(\"The dimensions of the input don't match\")"
   ]
  },
  {
   "cell_type": "code",
   "execution_count": 221,
   "metadata": {},
   "outputs": [
    {
     "name": "stdout",
     "output_type": "stream",
     "text": [
      "[0.5 0.5]\n",
      "784\n",
      "784\n",
      "(2, 784)\n",
      "(2, 784, 784)\n",
      "1568\n"
     ]
    }
   ],
   "source": [
    "# This is the initialization of the solution.\n",
    "\n",
    "# number of steps to run GMM\n",
    "# The algorithm will converge and there would be no need for steps.\n",
    "\n",
    "steps = 100\n",
    "\n",
    "# number of categories \n",
    "k = 2\n",
    "\n",
    "# The weights should be equally divided among the defined categories\n",
    "# Total weights should be 1. It is probability.\n",
    "weights = np.ones((k)) / k\n",
    "print(weights)\n",
    "\n",
    "# initialize the means to random guassian with mu = 0 and Sig=1\n",
    "# our data is 1 X 784\n",
    "#means = np.zeros((2, 784))\n",
    "means = []\n",
    "mean = []\n",
    "for _ in range(k):\n",
    "    mean = np.random.normal(0, 1, data.shape[1])\n",
    "    \n",
    "    means.append(mean)\n",
    "    print(np.count_nonzero(mean))\n",
    "means = np.array(means)\n",
    "print(means.shape)\n",
    "\n",
    "\n",
    "# initialize the covariance matrix with 1. That is identiy matix with size 784 X 784\n",
    "# we are planning to have two classes then we will have two covariange matrix \n",
    "# each will be of size 784 X 784\n",
    "\n",
    "cov = []\n",
    "for i in range(k):\n",
    "    cov.append(np.identity(data.shape[1]))\n",
    "    \n",
    "cov = np.array(cov)\n",
    "print(cov.shape)\n",
    "print(np.count_nonzero(cov))"
   ]
  },
  {
   "cell_type": "code",
   "execution_count": 222,
   "metadata": {},
   "outputs": [
    {
     "name": "stdout",
     "output_type": "stream",
     "text": [
      "0 1 2 3 4 5 6 7 8 9 10 11 12 13 14 15 16 17 18 19 20 21 22 23 24 25 26 27 28 29 30 31 32 33 "
     ]
    }
   ],
   "source": [
    "import sys\n",
    "\n",
    "# Here we implement the Expectation & Maximization algorithm\n",
    "\n",
    "# if the materix has determinant of zero then you get singular matrix error\n",
    "steps = 100\n",
    "total_steps = 0\n",
    "log_likelihoods = []\n",
    "\n",
    "eps=1e-6\n",
    "for step in range(steps):\n",
    "    # Let's track the likelhood and plot it\n",
    "    likelihood = []\n",
    "    b = []\n",
    "    \n",
    "    # Expectation step\n",
    "    for j in range(k):\n",
    "        #likelihood.append(norm_pdf_multivariate(x=data,  mean=means[j], cov=cov[j]))\n",
    "        likelihood.append(norm_pdf_multivariate_alt(data,  means[j], cov[j], 15))\n",
    "        \n",
    "    for j in range(k):\n",
    "        # use the current values for the parameters to evaluate the posterior\n",
    "        # probabilities of the data to have been generanted by each gaussian\n",
    "        b.append((likelihood[j] * weights[j]) / (np.sum([likelihood[i] * weights[i] for i in range(k)], axis=0)+eps))\n",
    "        \n",
    "    likelihood = np.array(likelihood)\n",
    "    #print(len(data))\n",
    "    #print(likelihood.shape)\n",
    "    #print((k, len(data)))\n",
    "    assert likelihood.shape == (k, len(data))\n",
    "    \n",
    "    \n",
    "    # Maximization step \n",
    "    for j in range(k):\n",
    "        # updage mean and variance\n",
    "        means[j] = np.sum(b[j].reshape(len(data),1) * data, axis=0) / (np.sum(b[j]+eps))\n",
    "        #print(len(means[j]))\n",
    "        cov[j] = np.dot((b[j].reshape(len(data),1) * (data - means[j])).T, (data - means[j])) / (np.sum(b[j])+eps)\n",
    "        cov[j].flat[::784 + 1] += eps\n",
    "\n",
    "        # update the weights\n",
    "        weights[j] = np.mean(b[j])\n",
    "\n",
    "        assert cov.shape == (k, data.shape[1], data.shape[1])\n",
    "        assert means.shape == (k, data.shape[1])\n",
    "        \n",
    "        #print(b[j].shape)\n",
    "        #print(np.sum(weights))\n",
    "    \n",
    "    #print(np.count_nonzero(means), np.count_nonzero(likelihood), np.count_nonzero(weights))\n",
    "    log_likelihoods.append(np.log(np.sum(likelihood)))  \n",
    "    sys.stdout.write(str(step) + ' ')\n",
    "    total_steps = step\n",
    "    if (step != 0):\n",
    "        ll1 = log_likelihoods[-1]\n",
    "        ll2 = log_likelihoods[-2]\n",
    "        #print( \"\\t\",ll1 - ll2)\n",
    "        if (abs(ll1-ll2) < 0.005): break\n"
   ]
  },
  {
   "cell_type": "code",
   "execution_count": 223,
   "metadata": {},
   "outputs": [
    {
     "data": {
      "image/png": "[encoded data removed]",
      "text/plain": [
       "<Figure size 720x720 with 1 Axes>"
      ]
     },
     "metadata": {
      "needs_background": "light"
     },
     "output_type": "display_data"
    }
   ],
   "source": [
    "# This is part of the answre to Q1-b\n",
    "# plotting the log-likelihood function versus the number of iteration\n",
    "\n",
    "fig = plt.figure(figsize=(10,10))\n",
    "ax = fig.add_subplot(111) \n",
    "ax.set_title('Log-Likelihood')\n",
    "ax.plot(range(0,total_steps+1,1),log_likelihoods)\n",
    "plt.show()"
   ]
  },
  {
   "cell_type": "markdown",
   "metadata": {},
   "source": [
    "#  Q1-c"
   ]
  },
  {
   "cell_type": "code",
   "execution_count": 224,
   "metadata": {},
   "outputs": [
    {
     "name": "stdout",
     "output_type": "stream",
     "text": [
      "198\n"
     ]
    },
    {
     "data": {
      "text/plain": [
       "<matplotlib.image.AxesImage at 0x7fde397437f0>"
      ]
     },
     "execution_count": 224,
     "metadata": {},
     "output_type": "execute_result"
    },
    {
     "data": {
      "image/png": "[encoded data removed]",
      "text/plain": [
       "<Figure size 432x288 with 2 Axes>"
      ]
     },
     "metadata": {
      "needs_background": "light"
     },
     "output_type": "display_data"
    }
   ],
   "source": [
    "# Here we report the precision of the algorithm and print out the mean pictures.\n",
    "# though both means are not numerically equal but visually they are the same.\n",
    "# I am still working on knowing this issue.\n",
    "\n",
    "# proof for having the means NOT numerically equal\n",
    "print(sum(means[0]==means[1]))\n",
    "\n",
    "fig, (axs1, axs2) = plt.subplots(1, 2)\n",
    "\n",
    "#Randomly generat two indies. One for 2 and one for 6\n",
    "img1 = means[0].reshape((28,28))\n",
    "img2 = means[1].reshape((28,28))\n",
    "\n",
    "\n",
    "fig.suptitle('Plotting the mean image')\n",
    "axs1.imshow(np.rot90(np.fliplr(img1)), cmap=\"Greys\")\n",
    "axs2.imshow(np.rot90(np.fliplr(img2)), cmap=\"Greys\")"
   ]
  },
  {
   "cell_type": "markdown",
   "metadata": {},
   "source": [
    "# Q1-d \n",
    "# Compare to Kmeans"
   ]
  },
  {
   "cell_type": "code",
   "execution_count": 225,
   "metadata": {},
   "outputs": [],
   "source": [
    "from sklearn.cluster import KMeans\n",
    "kmeans = KMeans(n_clusters=2, random_state=0).fit(data)\n"
   ]
  },
  {
   "cell_type": "code",
   "execution_count": 226,
   "metadata": {},
   "outputs": [
    {
     "data": {
      "text/plain": [
       "<matplotlib.image.AxesImage at 0x7fde396dbe10>"
      ]
     },
     "execution_count": 226,
     "metadata": {},
     "output_type": "execute_result"
    },
    {
     "data": {
      "image/png": "[encoded data removed]",
      "text/plain": [
       "<Figure size 432x288 with 2 Axes>"
      ]
     },
     "metadata": {
      "needs_background": "light"
     },
     "output_type": "display_data"
    }
   ],
   "source": [
    "fig, (axs1, axs2) = plt.subplots(1, 2)\n",
    "\n",
    "#Randomly generat two indies. One for 2 and one for 6\n",
    "img1 = kmeans.cluster_centers_[0].reshape((28,28))\n",
    "img2 = kmeans.cluster_centers_[1].reshape((28,28))\n",
    "\n",
    "\n",
    "fig.suptitle('Plotting the mean image')\n",
    "axs1.imshow(np.rot90(np.fliplr(img1)), cmap=\"Greys\")\n",
    "axs2.imshow(np.rot90(np.fliplr(img2)), cmap=\"Greys\")"
   ]
  },
  {
   "cell_type": "code",
   "execution_count": 227,
   "metadata": {},
   "outputs": [
    {
     "name": "stdout",
     "output_type": "stream",
     "text": [
      "Precision score: 0.8067729083665338\n",
      "              precision    recall  f1-score   support\n",
      "\n",
      "     digit 2       0.85      0.81      0.83      1032\n",
      "     digit 6       0.81      0.85      0.83       958\n",
      "\n",
      "   micro avg       0.83      0.83      0.83      1990\n",
      "   macro avg       0.83      0.83      0.83      1990\n",
      "weighted avg       0.83      0.83      0.83      1990\n",
      "\n",
      "         Predicted Class 0  Predicted Class 1\n",
      "Class 0                838                194\n",
      "Class 1                148                810\n",
      "The error rate for digit 2 for my GMM Algorithm : 0.187984496124031\n",
      "The error rate for digit 6 for my GMM Algorithm : 0.1544885177453027\n"
     ]
    }
   ],
   "source": [
    "from sklearn.metrics import classification_report\n",
    "from sklearn.metrics import confusion_matrix\n",
    "import pandas as pd\n",
    "\n",
    "classification = np.argmax(likelihood, axis=0)\n",
    "classification = classification #[::-1]\n",
    "print(\"Precision score: {}\".format(precision_score(trueLabel,classification)))\n",
    "\n",
    "target_names = ['digit 2', 'digit 6']\n",
    "print(classification_report(trueLabel, classification, target_names=target_names))\n",
    "\n",
    "confusion_df = pd.DataFrame(confusion_matrix(trueLabel,classification),\n",
    "             columns=[\"Predicted Class \" + str(class_name) for class_name in [0,1]],\n",
    "             index = [\"Class \" + str(class_name) for class_name in [0,1]])\n",
    "\n",
    "print(confusion_df)\n",
    "\n",
    "misclassRate2 = np.mean(trueLabel[0:1032] != classification[0:1032])\n",
    "misclassRate6 = np.mean(trueLabel[1032:] != classification[1032:])                        \n",
    "print(\"The error rate for digit 2 for my GMM Algorithm :\", misclassRate2)\n",
    "print(\"The error rate for digit 6 for my GMM Algorithm :\", misclassRate6)\n"
   ]
  },
  {
   "cell_type": "code",
   "execution_count": 228,
   "metadata": {},
   "outputs": [
    {
     "name": "stdout",
     "output_type": "stream",
     "text": [
      "Precision score: 0.9408033826638478\n",
      "              precision    recall  f1-score   support\n",
      "\n",
      "     digit 2       0.93      0.95      0.94      1032\n",
      "     digit 6       0.94      0.93      0.93       958\n",
      "\n",
      "   micro avg       0.94      0.94      0.94      1990\n",
      "   macro avg       0.94      0.94      0.94      1990\n",
      "weighted avg       0.94      0.94      0.94      1990\n",
      "\n",
      "         Predicted Class 0  Predicted Class 1\n",
      "Class 0                976                 56\n",
      "Class 1                 68                890\n",
      "The error rate for digit 2 for KMEANs Algorithm : 0.05426356589147287\n",
      "The error rate for digit 6 for KMEANs Algorithm : 0.0709812108559499\n"
     ]
    }
   ],
   "source": [
    "# Currently the precision is way better than my GMM algorithm\n",
    "print(\"Precision score: {}\".format(precision_score(trueLabel,kmeans.labels_)))\n",
    "\n",
    "target_names = ['digit 2', 'digit 6']\n",
    "print(classification_report(trueLabel, kmeans.labels_, target_names=target_names))\n",
    "\n",
    "confusion_df = pd.DataFrame(confusion_matrix(trueLabel,kmeans.labels_),\n",
    "             columns=[\"Predicted Class \" + str(class_name) for class_name in [0,1]],\n",
    "             index = [\"Class \" + str(class_name) for class_name in [0,1]])\n",
    "\n",
    "print(confusion_df)\n",
    "misclassRate2 = np.mean(trueLabel[0:1032] != kmeans.labels_[0:1032])\n",
    "misclassRate6 = np.mean(trueLabel[1032:] != kmeans.labels_[1032:])                        \n",
    "print(\"The error rate for digit 2 for KMEANs Algorithm :\", misclassRate2)\n",
    "print(\"The error rate for digit 6 for KMEANs Algorithm :\", misclassRate6)\n"
   ]
  }
 ],
 "metadata": {
  "kernelspec": {
   "display_name": "Python 3",
   "language": "python",
   "name": "python3"
  },
  "language_info": {
   "codemirror_mode": {
    "name": "ipython",
    "version": 3
   },
   "file_extension": ".py",
   "mimetype": "text/x-python",
   "name": "python",
   "nbconvert_exporter": "python",
   "pygments_lexer": "ipython3",
   "version": "3.7.3"
  }
 },
 "nbformat": 4,
 "nbformat_minor": 2
}
